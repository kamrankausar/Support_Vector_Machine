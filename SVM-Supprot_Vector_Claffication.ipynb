{
 "cells": [
  {
   "cell_type": "markdown",
   "metadata": {},
   "source": [
    "# SVM_SVC "
   ]
  },
  {
   "cell_type": "code",
   "execution_count": 1,
   "metadata": {
    "collapsed": true
   },
   "outputs": [],
   "source": [
    "# sklearn.svm.SVC (C=1.0, kernel='rbf', degree=3, gamma='auto')\n",
    "# Parameters are as follows:\n",
    "\n",
    "# C: It is the regularization parameter, C, of the error term.\n",
    "# kernel: It specifies the kernel type to be used in the algorithm. It can be ‘linear’, ‘poly’, ‘rbf’, ‘sigmoid’, ‘precomputed’, or a callable. The default value is ‘rbf'.\n",
    "# degree: It is the degree of the polynomial kernel function (‘poly’) and is ignored by all other kernels. The default value is 3.\n",
    "# gamma: It is the kernel coefficient for ‘rbf’, ‘poly’, and ‘sigmoid’. If gamma is ‘auto’, then 1/n_features will be used instead."
   ]
  },
  {
   "cell_type": "code",
   "execution_count": null,
   "metadata": {
    "collapsed": true
   },
   "outputs": [],
   "source": [
    "from sklearn import datasets, svm\n",
    "from sklearn.model_selection import train_test_split\n",
    "from sklearn.metrics import confusion_matrix\n",
    "iris = datasets.load_iris()\n",
    "X = iris.data[:, :2]\n",
    "y = iris.target\n",
    "#Split the data into test and train\n",
    "X_train, X_test, y_train, y_test = train_test_split(X, y, test_size=0.3, random_state=0)  \n",
    "\n",
    "# Linear Kernel\n",
    "svc_linear = svm.SVC(kernel='linear', C=1)\n",
    "svc_linear.fit(X_train, y_train)\n",
    "predicted= svc_linear.predict(X_test)\n",
    "cnf_matrix = confusion_matrix(y_test, predicted)\n",
    "print(cnf_matrix)"
   ]
  },
  {
   "cell_type": "code",
   "execution_count": null,
   "metadata": {
    "collapsed": true
   },
   "outputs": [],
   "source": [
    "# Output\n",
    "\n",
    "[[16  0  0]\n",
    " [ 0 13  5]\n",
    "[ 0 4 7]]"
   ]
  },
  {
   "cell_type": "code",
   "execution_count": null,
   "metadata": {
    "collapsed": true
   },
   "outputs": [],
   "source": [
    "# One can tune the SVM by changing the parameters C, \\gamma and the kernel function.\n",
    "# The function for tuning the parameters available in scikit-learn is called gridSearchCV()."
   ]
  },
  {
   "cell_type": "code",
   "execution_count": null,
   "metadata": {
    "collapsed": true
   },
   "outputs": [],
   "source": [
    "# sklearn.model_selection.GridSearchCV(estimator, param_grid)\n",
    "\n",
    "# Parameters of this function are defined as:\n",
    "\n",
    "#estimator: It is the estimator object which is svm.SVC() in our case.\n",
    "#param_grid: It is the dictionary or list with parameters names (string) as keys and lists of parameter settings to try as values."
   ]
  },
  {
   "cell_type": "code",
   "execution_count": null,
   "metadata": {
    "collapsed": true
   },
   "outputs": [],
   "source": [
    "from sklearn.model_selection import GridSearchCV \n",
    "\n",
    "parameters = {'kernel':('linear', 'rbf'), 'C':[1,2,3,4,5,6,7,8,9,10], 'gamma': \n",
    "              [0.01,0.02,0.03,0.04,0.05,0.10,0.2,0.3,0.4,0.5]}\n",
    "svr = svm.SVC()\n",
    "grid = GridSearchCV(svr, parameters)\n",
    "grid.fit(X_train, y_train)\n",
    "predicted = grid.predict(X_test)\n",
    "cnf_matrix = confusion_matrix(y_test, predicted)"
   ]
  },
  {
   "cell_type": "code",
   "execution_count": null,
   "metadata": {
    "collapsed": true
   },
   "outputs": [],
   "source": [
    "print(cnf_matrix)\n",
    "[[16  0  0]\n",
    " [ 0 13  5]\n",
    "[ 0 3 8]]"
   ]
  }
 ],
 "metadata": {
  "kernelspec": {
   "display_name": "Python 2",
   "language": "python",
   "name": "python2"
  },
  "language_info": {
   "codemirror_mode": {
    "name": "ipython",
    "version": 2
   },
   "file_extension": ".py",
   "mimetype": "text/x-python",
   "name": "python",
   "nbconvert_exporter": "python",
   "pygments_lexer": "ipython2",
   "version": "2.7.12"
  }
 },
 "nbformat": 4,
 "nbformat_minor": 2
}
